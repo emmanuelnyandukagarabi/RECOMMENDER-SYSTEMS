{
 "cells": [
  {
   "cell_type": "markdown",
   "metadata": {
    "id": "QxrS5rz6IfJA"
   },
   "source": [
    "# **Emmanuel NYANDU KAGARABI**\n",
    "\n",
    "# **Applied Machine Learning at scale : Practical 2 - 3 : with user and item vectors**"
   ]
  },
  {
   "cell_type": "markdown",
   "metadata": {
    "id": "nIhSNv1TJPM1"
   },
   "source": [
    "# **0. Libraries**"
   ]
  },
  {
   "cell_type": "code",
   "execution_count": 1,
   "metadata": {
    "executionInfo": {
     "elapsed": 634,
     "status": "ok",
     "timestamp": 1716017104101,
     "user": {
      "displayName": "Emmanuel NYANDU KAGARABI",
      "userId": "02904990628116200166"
     },
     "user_tz": -120
    },
    "id": "b-gnpJgUV-ao"
   },
   "outputs": [],
   "source": [
    "import numpy as np\n",
    "import pandas as pd\n",
    "import random\n",
    "from tqdm import tqdm\n",
    "import matplotlib.pyplot as plt"
   ]
  },
  {
   "cell_type": "markdown",
   "metadata": {
    "id": "MZlJcEgtJvYQ"
   },
   "source": [
    "# **1. Data structure**"
   ]
  },
  {
   "cell_type": "code",
   "execution_count": 2,
   "metadata": {
    "colab": {
     "base_uri": "https://localhost:8080/",
     "height": 206
    },
    "executionInfo": {
     "elapsed": 17077,
     "status": "ok",
     "timestamp": 1716017150768,
     "user": {
      "displayName": "Emmanuel NYANDU KAGARABI",
      "userId": "02904990628116200166"
     },
     "user_tz": -120
    },
    "id": "xqYuEJUgMMZR",
    "outputId": "73c8904a-f0a1-428a-a269-64fcc008eaee"
   },
   "outputs": [
    {
     "data": {
      "text/html": [
       "<div>\n",
       "<style scoped>\n",
       "    .dataframe tbody tr th:only-of-type {\n",
       "        vertical-align: middle;\n",
       "    }\n",
       "\n",
       "    .dataframe tbody tr th {\n",
       "        vertical-align: top;\n",
       "    }\n",
       "\n",
       "    .dataframe thead th {\n",
       "        text-align: right;\n",
       "    }\n",
       "</style>\n",
       "<table border=\"1\" class=\"dataframe\">\n",
       "  <thead>\n",
       "    <tr style=\"text-align: right;\">\n",
       "      <th></th>\n",
       "      <th>userId</th>\n",
       "      <th>movieId</th>\n",
       "      <th>rating</th>\n",
       "      <th>timestamp</th>\n",
       "    </tr>\n",
       "  </thead>\n",
       "  <tbody>\n",
       "    <tr>\n",
       "      <th>0</th>\n",
       "      <td>1</td>\n",
       "      <td>296</td>\n",
       "      <td>5.0</td>\n",
       "      <td>1147880044</td>\n",
       "    </tr>\n",
       "    <tr>\n",
       "      <th>1</th>\n",
       "      <td>1</td>\n",
       "      <td>306</td>\n",
       "      <td>3.5</td>\n",
       "      <td>1147868817</td>\n",
       "    </tr>\n",
       "    <tr>\n",
       "      <th>2</th>\n",
       "      <td>1</td>\n",
       "      <td>307</td>\n",
       "      <td>5.0</td>\n",
       "      <td>1147868828</td>\n",
       "    </tr>\n",
       "    <tr>\n",
       "      <th>3</th>\n",
       "      <td>1</td>\n",
       "      <td>665</td>\n",
       "      <td>5.0</td>\n",
       "      <td>1147878820</td>\n",
       "    </tr>\n",
       "    <tr>\n",
       "      <th>4</th>\n",
       "      <td>1</td>\n",
       "      <td>899</td>\n",
       "      <td>3.5</td>\n",
       "      <td>1147868510</td>\n",
       "    </tr>\n",
       "  </tbody>\n",
       "</table>\n",
       "</div>"
      ],
      "text/plain": [
       "   userId  movieId  rating   timestamp\n",
       "0       1      296     5.0  1147880044\n",
       "1       1      306     3.5  1147868817\n",
       "2       1      307     5.0  1147868828\n",
       "3       1      665     5.0  1147878820\n",
       "4       1      899     3.5  1147868510"
      ]
     },
     "execution_count": 2,
     "metadata": {},
     "output_type": "execute_result"
    }
   ],
   "source": [
    "# Ratings data\n",
    "df = pd.read_csv('/home/emmanuelnk/Desktop/ML_AT_SCALE/ml-25m-20240511T131321Z-001/ml-25m/ratings.csv')\n",
    "df.head()"
   ]
  },
  {
   "cell_type": "code",
   "execution_count": 3,
   "metadata": {
    "executionInfo": {
     "elapsed": 662,
     "status": "ok",
     "timestamp": 1716017151419,
     "user": {
      "displayName": "Emmanuel NYANDU KAGARABI",
      "userId": "02904990628116200166"
     },
     "user_tz": -120
    },
    "id": "Dcu7laQ_QXbj"
   },
   "outputs": [],
   "source": [
    "df_ratings = df[['userId', 'movieId', 'rating']].to_numpy()"
   ]
  },
  {
   "cell_type": "code",
   "execution_count": 4,
   "metadata": {
    "colab": {
     "base_uri": "https://localhost:8080/",
     "height": 206
    },
    "executionInfo": {
     "elapsed": 1031,
     "status": "ok",
     "timestamp": 1716017152447,
     "user": {
      "displayName": "Emmanuel NYANDU KAGARABI",
      "userId": "02904990628116200166"
     },
     "user_tz": -120
    },
    "id": "I1SqID4Bc5AR",
    "outputId": "1d689951-586d-427b-9c87-d9e13f1eed45"
   },
   "outputs": [
    {
     "data": {
      "text/html": [
       "<div>\n",
       "<style scoped>\n",
       "    .dataframe tbody tr th:only-of-type {\n",
       "        vertical-align: middle;\n",
       "    }\n",
       "\n",
       "    .dataframe tbody tr th {\n",
       "        vertical-align: top;\n",
       "    }\n",
       "\n",
       "    .dataframe thead th {\n",
       "        text-align: right;\n",
       "    }\n",
       "</style>\n",
       "<table border=\"1\" class=\"dataframe\">\n",
       "  <thead>\n",
       "    <tr style=\"text-align: right;\">\n",
       "      <th></th>\n",
       "      <th>movieId</th>\n",
       "      <th>title</th>\n",
       "      <th>genres</th>\n",
       "    </tr>\n",
       "  </thead>\n",
       "  <tbody>\n",
       "    <tr>\n",
       "      <th>0</th>\n",
       "      <td>1</td>\n",
       "      <td>Toy Story (1995)</td>\n",
       "      <td>Adventure|Animation|Children|Comedy|Fantasy</td>\n",
       "    </tr>\n",
       "    <tr>\n",
       "      <th>1</th>\n",
       "      <td>2</td>\n",
       "      <td>Jumanji (1995)</td>\n",
       "      <td>Adventure|Children|Fantasy</td>\n",
       "    </tr>\n",
       "    <tr>\n",
       "      <th>2</th>\n",
       "      <td>3</td>\n",
       "      <td>Grumpier Old Men (1995)</td>\n",
       "      <td>Comedy|Romance</td>\n",
       "    </tr>\n",
       "    <tr>\n",
       "      <th>3</th>\n",
       "      <td>4</td>\n",
       "      <td>Waiting to Exhale (1995)</td>\n",
       "      <td>Comedy|Drama|Romance</td>\n",
       "    </tr>\n",
       "    <tr>\n",
       "      <th>4</th>\n",
       "      <td>5</td>\n",
       "      <td>Father of the Bride Part II (1995)</td>\n",
       "      <td>Comedy</td>\n",
       "    </tr>\n",
       "  </tbody>\n",
       "</table>\n",
       "</div>"
      ],
      "text/plain": [
       "   movieId                               title  \\\n",
       "0        1                    Toy Story (1995)   \n",
       "1        2                      Jumanji (1995)   \n",
       "2        3             Grumpier Old Men (1995)   \n",
       "3        4            Waiting to Exhale (1995)   \n",
       "4        5  Father of the Bride Part II (1995)   \n",
       "\n",
       "                                        genres  \n",
       "0  Adventure|Animation|Children|Comedy|Fantasy  \n",
       "1                   Adventure|Children|Fantasy  \n",
       "2                               Comedy|Romance  \n",
       "3                         Comedy|Drama|Romance  \n",
       "4                                       Comedy  "
      ]
     },
     "execution_count": 4,
     "metadata": {},
     "output_type": "execute_result"
    }
   ],
   "source": [
    "# Movies data\n",
    "df_movies = pd.read_csv('/home/emmanuelnk/Desktop/ML_AT_SCALE/ml-25m-20240511T131321Z-001/ml-25m/movies.csv')\n",
    "# Movies head\n",
    "df_movies.head()"
   ]
  },
  {
   "cell_type": "code",
   "execution_count": 5,
   "metadata": {
    "executionInfo": {
     "elapsed": 8,
     "status": "ok",
     "timestamp": 1716017152448,
     "user": {
      "displayName": "Emmanuel NYANDU KAGARABI",
      "userId": "02904990628116200166"
     },
     "user_tz": -120
    },
    "id": "1A0Ysc2KXPxW"
   },
   "outputs": [],
   "source": [
    "def initialize_data_structure(dataset):\n",
    "\n",
    "    #1. Data strucures\n",
    "\n",
    "    # Dictionnaries to map user/movie to its index\n",
    "    user_to_index = {} # ex {\"u1\":0,...,\"u100\": 99}\n",
    "    movie_to_index = {} # ex {\"m1\":0,...,\"m50\": 49}\n",
    "\n",
    "    # Lists to store  user/movie  indces\n",
    "    list_to_user = [] # ex [\"u1\",...,\"u100\"]\n",
    "    list_to_movie = [] # ex [\"m1\",...,\"m50\"]\n",
    "\n",
    "    # Lists to store  user/movie  data\n",
    "    data_by_user = [] # ex[[(u1,r10),...,(u100,r1100)],[...],[]]\n",
    "    data_by_movie = [] # ex[[(m1,r10),...,(m100,r1100)],[...],[]]\n",
    "\n",
    "    #2. Let's fill the data structure given above\n",
    "    for user, movie, rating in dataset:\n",
    "\n",
    "        # Users\n",
    "        if user not in user_to_index:\n",
    "            index = len(list_to_user)\n",
    "            user_to_index[user] = index\n",
    "            list_to_user.append(user)\n",
    "            data_by_user.append([])\n",
    "        index = user_to_index[user]\n",
    "\n",
    "        # Movies\n",
    "        if movie not in movie_to_index:\n",
    "            index_movie = len(list_to_movie)\n",
    "            movie_to_index[movie] = index_movie\n",
    "            list_to_movie.append(movie)\n",
    "            data_by_movie.append([])\n",
    "        index_movie = movie_to_index[movie]\n",
    "\n",
    "        # Data by user/movie\n",
    "        data_by_user[index].append((index_movie, rating))\n",
    "        data_by_movie[index_movie].append((index, rating))\n",
    "\n",
    "    return data_by_user, data_by_movie, user_to_index, movie_to_index,list_to_user,list_to_movie"
   ]
  },
  {
   "cell_type": "code",
   "execution_count": 6,
   "metadata": {
    "executionInfo": {
     "elapsed": 72681,
     "status": "ok",
     "timestamp": 1716017225123,
     "user": {
      "displayName": "Emmanuel NYANDU KAGARABI",
      "userId": "02904990628116200166"
     },
     "user_tz": -120
    },
    "id": "zEQiTi7QXVjQ"
   },
   "outputs": [],
   "source": [
    "data_by_user, data_by_movie, user_to_index, movie_to_index,list_to_user,list_to_movie = initialize_data_structure(df_ratings)\n"
   ]
  },
  {
   "cell_type": "code",
   "execution_count": 7,
   "metadata": {},
   "outputs": [],
   "source": [
    "def data_spliting(dataset) :\n",
    "    # Get the number of rows in the dataset\n",
    "    number_rows = len(dataset)\n",
    "    # Shuffle all rows in a given dataset randomly\n",
    "    np.random.shuffle(rating_data)\n",
    "\n",
    "    # Define the decision boundary for splitting (80% training, 20% test)\n",
    "    decision_boundary = 0.8 * number_rows\n",
    "\n",
    "    # Initialize dictionaries to map user/movies to IDs and vice versa\n",
    "    user_m_to_id = {}\n",
    "    user_id_to_m = []\n",
    "    movie_n_to_id = {}\n",
    "    movie_id_to_n = []\n",
    "\n",
    "    # Iterate through each row in the dataset\n",
    "    for row in range(number_rows) :\n",
    "        # Get user and movie IDs from the dataset\n",
    "        user_m = dataset[row][0]\n",
    "        movie_n = dataset[row][1]\n",
    "\n",
    "        # Map user to ID if not already mapped\n",
    "        if user_m not in user_m_to_id :\n",
    "            user_id_to_m.append(user_m)\n",
    "            user_m_to_id[user_m] = len(user_m_to_id)\n",
    "\n",
    "        # Map movie to ID if not already mapped\n",
    "        if movie_n not in movie_n_to_id :\n",
    "            movie_id_to_n.append(movie_n)\n",
    "            movie_n_to_id[movie_n] = len(movie_n_to_id)\n",
    "\n",
    "    # Initialize training and test data structures for users and movies\n",
    "    data_by_user_train = [[] for z in range(len(user_id_to_m))]\n",
    "    data_by_movie_train = [[] for z in range(len(movie_id_to_n))]\n",
    "    data_by_user_test = [[] for z in range(len(user_id_to_m))]\n",
    "    data_by_movie_test = [[] for z in range(len(movie_id_to_n))]\n",
    "\n",
    "    # Iterate through each row in the dataset again\n",
    "    for row in range(number_rows) :\n",
    "        # Extract user, movie, and rating information\n",
    "        user_m = dataset[rows][0]\n",
    "        movie_n = dataset[row][1]\n",
    "        rating = dataset[row][2]\n",
    "\n",
    "        # Get user and movie indices\n",
    "        user_index = user_m_to_id[user_m]\n",
    "        movie_index = movie_n_to_id[movie_n]\n",
    "\n",
    "        # Check if the index is below the decision boundary\n",
    "        if row < decision_boundary :\n",
    "            # Insert the point in the training dataset\n",
    "            data_by_user_train[user_index].append((movie_index, rating))\n",
    "            data_by_movie_train[movie_index].append((user_index, rating))\n",
    "        else:\n",
    "            # Insert the point in the test dataset\n",
    "            data_by_user_test[user_index].append((movie_index, rating))\n",
    "            data_by_movie_test[movie_index].append((user_index,rating))\n",
    "\n",
    "    # Return all data structures\n",
    "    return user_m_to_id, user_id_to_m, movie_n_to_id, movie_id_to_n, data_by_user_train, data_by_movie_train, data_by_user_test, data_by_movie_test\n"
   ]
  },
  {
   "cell_type": "code",
   "execution_count": 8,
   "metadata": {
    "executionInfo": {
     "elapsed": 6,
     "status": "ok",
     "timestamp": 1716017225123,
     "user": {
      "displayName": "Emmanuel NYANDU KAGARABI",
      "userId": "02904990628116200166"
     },
     "user_tz": -120
    },
    "id": "-vadvHt3sg6O"
   },
   "outputs": [],
   "source": [
    "def create_train_vs_test(data_by_user, data_by_movie,split_percentage):\n",
    "\n",
    "    # Initialize lists to store training and test data for users and movies\n",
    "    user_train_data = []\n",
    "    user_test_data = []\n",
    "\n",
    "    movie_train_data = []\n",
    "    movie_test_data = []\n",
    "\n",
    "    # Iterate through each user's data\n",
    "    for user_list in data_by_user:\n",
    "\n",
    "        # Shuffle the user data\n",
    "        random.shuffle(user_list)\n",
    "\n",
    "        # Determine the split point based on the split percentage\n",
    "        decision_boundary_u = int(len(user_list) * split_percentage)\n",
    "\n",
    "        # Split the data into training and test sets\n",
    "        train_data_u = user_list[:decision_boundary_u]\n",
    "        test_data_u = user_list[decision_boundary_u:]\n",
    "\n",
    "        # Append the training and test data to the respective data\n",
    "        user_train_data.append(train_data_u)\n",
    "        user_test_data.append(test_data_u)\n",
    "\n",
    "    # Iterate through each movie's data\n",
    "    for movie_list in data_by_movie:\n",
    "\n",
    "        # Shuffle the movie data\n",
    "        random.shuffle(movie_list)\n",
    "\n",
    "        # Determine the split point based on the split percentage\n",
    "        decision_boundary_m = int(len(movie_list) * split_percentage)\n",
    "\n",
    "        # Split the data into training and test sets\n",
    "        train_data_m = movie_list[:decision_boundary_m]\n",
    "        test_data_m = movie_list[decision_boundary_m:]\n",
    "\n",
    "        # Append the training and test data\n",
    "        movie_train_data.append(train_data_m)\n",
    "        movie_test_data.append(test_data_m)\n",
    "\n",
    "    # Return the training and test matrices for users and movies\n",
    "    return user_train_data, user_test_data, movie_train_data, movie_test_data\n"
   ]
  },
  {
   "cell_type": "code",
   "execution_count": 9,
   "metadata": {
    "executionInfo": {
     "elapsed": 57824,
     "status": "ok",
     "timestamp": 1716017282941,
     "user": {
      "displayName": "Emmanuel NYANDU KAGARABI",
      "userId": "02904990628116200166"
     },
     "user_tz": -120
    },
    "id": "BRSrlnVxgnw0"
   },
   "outputs": [],
   "source": [
    "split_percentage = 0.9\n",
    "# Initialize data structures\n",
    "data_by_user_train, data_by_user_test, data_by_movie_train, data_by_movie_test = create_train_vs_test(data_by_user, data_by_movie,split_percentage)"
   ]
  },
  {
   "cell_type": "code",
   "execution_count": 10,
   "metadata": {
    "colab": {
     "base_uri": "https://localhost:8080/"
    },
    "executionInfo": {
     "elapsed": 9,
     "status": "ok",
     "timestamp": 1716017282942,
     "user": {
      "displayName": "Emmanuel NYANDU KAGARABI",
      "userId": "02904990628116200166"
     },
     "user_tz": -120
    },
    "id": "5HbVAWfbgD9f",
    "outputId": "191468c5-4fb2-4e0d-c409-5407b92f9091"
   },
   "outputs": [
    {
     "name": "stdout",
     "output_type": "stream",
     "text": [
      "Number of users for : training = 162541, and for test = 162541.\n",
      "Number of movies for : training = 59047, and for test = 59047.\n"
     ]
    }
   ],
   "source": [
    "# Train and test should have the same lenth\n",
    "print(f\"Number of users for : training = {len(data_by_user_train)}, and for test = {len(data_by_user_test)}.\")\n",
    "print(f\"Number of movies for : training = {len(data_by_movie_train)}, and for test = {len(data_by_movie_test)}.\")\n"
   ]
  },
  {
   "cell_type": "markdown",
   "metadata": {
    "id": "ur_5TaEqAfMh"
   },
   "source": [
    "#**2. ALS with latent factors**"
   ]
  },
  {
   "cell_type": "code",
   "execution_count": 11,
   "metadata": {
    "executionInfo": {
     "elapsed": 7,
     "status": "ok",
     "timestamp": 1716017282943,
     "user": {
      "displayName": "Emmanuel NYANDU KAGARABI",
      "userId": "02904990628116200166"
     },
     "user_tz": -120
    },
    "id": "8HDBKEpagD9h"
   },
   "outputs": [],
   "source": [
    "# 2.1. Initialization\n",
    "\n",
    "# Hyperparameters\n",
    "max_iterations = 15\n",
    "lambda_ = 0.001\n",
    "gamma = 0.001\n",
    "tau = 0.5\n",
    "K = 5\n",
    "\n",
    "# Initialize user and item biases\n",
    "M = len(data_by_user_train)  # Number of users\n",
    "N = len(data_by_movie_train)  # Number of items\n",
    "user_biases = np.zeros((M))\n",
    "item_biases = np.zeros((N))\n",
    "\n",
    "# Initialization of matrices U and V with random values for both training and test sets\n",
    "U = np.random.normal(loc=0.0, scale=1.0 / np.sqrt(K), size=(M, K))\n",
    "V = np.random.normal(loc=0.0, scale=1.0 / np.sqrt(K), size=(N, K))"
   ]
  },
  {
   "cell_type": "code",
   "execution_count": 12,
   "metadata": {
    "executionInfo": {
     "elapsed": 680,
     "status": "ok",
     "timestamp": 1716017283617,
     "user": {
      "displayName": "Emmanuel NYANDU KAGARABI",
      "userId": "02904990628116200166"
     },
     "user_tz": -120
    },
    "id": "tVAGwfRLQYcX"
   },
   "outputs": [],
   "source": [
    "# 2.2. Helpers : vectorized Functions for updating\n",
    "\n",
    "# UPDATING PARAMETERS\n",
    "from scipy.sparse import csr_matrix\n",
    "def update_params(data_by_user, data_by_movie, user_biases, item_biases, U, V, lambda_, gamma, tau, K):\n",
    "    # Convert data to CSR format for fast row slicing\n",
    "    data_by_user_csr = [csr_matrix((np.array([r for _, r in user_ratings]),\n",
    "                                    (np.zeros(len(user_ratings)), np.array([n for n, _ in user_ratings]))),\n",
    "                                    shape=(1, len(data_by_movie)))\n",
    "                        for user_ratings in data_by_user]\n",
    "\n",
    "    data_by_movie_csr = [csr_matrix((np.array([r for _, r in movie_ratings]),\n",
    "                                     (np.zeros(len(movie_ratings)), np.array([m for m, _ in movie_ratings]))),\n",
    "                                     shape=(1, len(data_by_user)))\n",
    "                         for movie_ratings in data_by_movie]\n",
    "\n",
    "    # Update user biases\n",
    "    for m in range(len(data_by_user)):\n",
    "        if data_by_user[m]:\n",
    "            item_indices = np.array([n for n, _ in data_by_user[m]])\n",
    "            ratings = np.array([r for _, r in data_by_user[m]])\n",
    "            predictions = U[m].dot(V[item_indices].T) + item_biases[item_indices]\n",
    "            user_biases[m] = np.sum(lambda_ * (ratings - predictions)) / (lambda_ * len(data_by_user[m]) + gamma)\n",
    "\n",
    "    # Update item biases\n",
    "    for n in range(len(data_by_movie)):\n",
    "        if data_by_movie[n]:\n",
    "            user_indices = np.array([m for m, _ in data_by_movie[n]])\n",
    "            ratings = np.array([r for _, r in data_by_movie[n]])\n",
    "            predictions = V[n].dot(U[user_indices].T) + user_biases[user_indices]\n",
    "            item_biases[n] = np.sum(lambda_ * (ratings - predictions)) / (lambda_ * len(data_by_movie[n]) + gamma)\n",
    "\n",
    "    # Update user latent factors\n",
    "    for m in range(len(data_by_user)):\n",
    "        if data_by_user[m]:\n",
    "            item_indices = np.array([n for n, _ in data_by_user[m]])\n",
    "            ratings = np.array([r for _, r in data_by_user[m]])\n",
    "            A = V[item_indices].T.dot(V[item_indices]) + tau * np.eye(K)\n",
    "            b = (ratings - user_biases[m] - item_biases[item_indices]).dot(V[item_indices])\n",
    "            U[m] = np.linalg.solve(lambda_ * A, lambda_ * b)\n",
    "\n",
    "    # Update item latent factors\n",
    "    for n in range(len(data_by_movie)):\n",
    "        if data_by_movie[n]:\n",
    "            user_indices = np.array([m for m, _ in data_by_movie[n]])\n",
    "            ratings = np.array([r for _, r in data_by_movie[n]])\n",
    "            A = U[user_indices].T.dot(U[user_indices]) + tau * np.eye(K)\n",
    "            b = (ratings - user_biases[user_indices] - item_biases[n]).dot(U[user_indices])\n",
    "            V[n] = np.linalg.solve(lambda_ * A, lambda_ * b)\n",
    "\n",
    "# Negative log likelihood (NLL)\n",
    "def negative_log_likelihood(data_by_user, user_biases, item_biases, U, V, lambda_, gamma, tau):\n",
    "    nll = 0\n",
    "    for m in range(len(data_by_user)):\n",
    "        for n, r in data_by_user[m]:\n",
    "            prediction = np.dot(U[m], V[n]) + user_biases[m] + item_biases[n]\n",
    "            nll += (r - prediction) ** 2\n",
    "\n",
    "    nll *= -0.5 * lambda_\n",
    "    sum_user = -0.5 * tau * np.sum(U * U)\n",
    "    sum_movie = -0.5 * tau * np.sum(V * V)\n",
    "    sum_bias_user = -0.5 * gamma * np.sum(user_biases ** 2)\n",
    "    sum_bias_movie = -0.5 * gamma * np.sum(item_biases ** 2)\n",
    "\n",
    "    cost = nll + sum_user + sum_movie + sum_bias_user + sum_bias_movie\n",
    "    return cost\n",
    "\n",
    "# Root Mean Squared Error (RMSE)\n",
    "def rmse(data_by_user, user_biases, item_biases, U, V):\n",
    "    squared_error = 0\n",
    "    num_ratings = 0\n",
    "    for m in range(len(data_by_user)):\n",
    "        for n, r in data_by_user[m]:\n",
    "            prediction = np.dot(U[m], V[n]) + user_biases[m] + item_biases[n]\n",
    "            squared_error += (r - prediction) ** 2\n",
    "            num_ratings += 1\n",
    "    rmse_value = np.sqrt(squared_error / num_ratings)\n",
    "    return rmse_value"
   ]
  },
  {
   "cell_type": "code",
   "execution_count": 13,
   "metadata": {
    "executionInfo": {
     "elapsed": 5,
     "status": "ok",
     "timestamp": 1716017283618,
     "user": {
      "displayName": "Emmanuel NYANDU KAGARABI",
      "userId": "02904990628116200166"
     },
     "user_tz": -120
    },
    "id": "HDMGBDadQlUn"
   },
   "outputs": [],
   "source": [
    "# 2.3. VECTORIZED TRAINING IN ACTION\n",
    "# Training function\n",
    "def als(data_by_user_train, data_by_movie_train, data_by_user_test, data_by_movie_test, user_biases, item_biases, U, V, K, lambda_, gamma, tau, max_iterations):\n",
    "    losses_train = []\n",
    "    rmses_train = []\n",
    "    losses_test = []\n",
    "    rmses_test = []\n",
    "\n",
    "    for j in range(max_iterations):\n",
    "        # Update biases and latent vectors\n",
    "        update_params(data_by_user_train, data_by_movie_train, user_biases, item_biases, U, V, lambda_, gamma, tau, K)\n",
    "\n",
    "        # Loss and RMSE train\n",
    "        loss_train = negative_log_likelihood(data_by_user_train, user_biases, item_biases, U, V, lambda_, gamma, tau)\n",
    "        losses_train.append(loss_train)\n",
    "        rmse_train = rmse(data_by_user_train, user_biases, item_biases, U, V)\n",
    "        rmses_train.append(rmse_train)\n",
    "\n",
    "        # Loss and RMSE test\n",
    "        loss_test = negative_log_likelihood(data_by_user_test, user_biases, item_biases, U, V, lambda_, gamma, tau)\n",
    "        losses_test.append(loss_test)\n",
    "        rmse_test = rmse(data_by_user_test, user_biases, item_biases, U, V)\n",
    "        rmses_test.append(rmse_test)\n",
    "\n",
    "        # Print results\n",
    "        print(f'\\tIteration:{j + 1}\\t Train_loss:{losses_train[j]:.2f}\\t Test_loss:{losses_test[j]:.2f}\\t Train_RMSE:{rmses_train[j]:.2f}\\t Test_RMSE:{rmses_test[j]:.2f}')\n",
    "\n",
    "    return losses_train, rmses_train, losses_test, rmses_test, U, V\n"
   ]
  },
  {
   "cell_type": "code",
   "execution_count": 14,
   "metadata": {
    "colab": {
     "base_uri": "https://localhost:8080/"
    },
    "id": "mM9EdPLn6t-p",
    "outputId": "9fd54e8f-3d5c-4942-a2f8-6253a76206f3"
   },
   "outputs": [
    {
     "name": "stdout",
     "output_type": "stream",
     "text": [
      "\tIteration:1\t Train_loss:-39848.38\t Test_loss:-32846.02\t Train_RMSE:0.85\t Test_RMSE:0.88\n",
      "\tIteration:2\t Train_loss:-50476.65\t Test_loss:-44118.09\t Train_RMSE:0.81\t Test_RMSE:0.84\n",
      "\tIteration:3\t Train_loss:-55574.94\t Test_loss:-49644.91\t Train_RMSE:0.78\t Test_RMSE:0.82\n",
      "\tIteration:4\t Train_loss:-59221.26\t Test_loss:-53482.53\t Train_RMSE:0.77\t Test_RMSE:0.81\n",
      "\tIteration:5\t Train_loss:-61763.95\t Test_loss:-56109.25\t Train_RMSE:0.76\t Test_RMSE:0.80\n",
      "\tIteration:6\t Train_loss:-63648.34\t Test_loss:-58035.74\t Train_RMSE:0.76\t Test_RMSE:0.80\n",
      "\tIteration:7\t Train_loss:-65163.48\t Test_loss:-59574.49\t Train_RMSE:0.76\t Test_RMSE:0.80\n",
      "\tIteration:8\t Train_loss:-66440.17\t Test_loss:-60865.83\t Train_RMSE:0.75\t Test_RMSE:0.79\n",
      "\tIteration:9\t Train_loss:-67536.74\t Test_loss:-61972.39\t Train_RMSE:0.75\t Test_RMSE:0.79\n",
      "\tIteration:10\t Train_loss:-68480.67\t Test_loss:-62923.68\t Train_RMSE:0.75\t Test_RMSE:0.79\n",
      "\tIteration:11\t Train_loss:-69290.70\t Test_loss:-63739.49\t Train_RMSE:0.75\t Test_RMSE:0.79\n",
      "\tIteration:12\t Train_loss:-69981.64\t Test_loss:-64435.21\t Train_RMSE:0.75\t Test_RMSE:0.79\n",
      "\tIteration:13\t Train_loss:-70568.22\t Test_loss:-65025.90\t Train_RMSE:0.75\t Test_RMSE:0.79\n",
      "\tIteration:14\t Train_loss:-71067.92\t Test_loss:-65529.27\t Train_RMSE:0.75\t Test_RMSE:0.79\n",
      "\tIteration:15\t Train_loss:-71500.61\t Test_loss:-65965.37\t Train_RMSE:0.75\t Test_RMSE:0.79\n"
     ]
    }
   ],
   "source": [
    "# So, let's train :\n",
    "losses_train, rmses_train, losses_test, rmses_test, U, V = als(data_by_user_train, data_by_movie_train, data_by_user_test, data_by_movie_test, user_biases, item_biases, U, V, K, lambda_, gamma, tau,max_iterations)"
   ]
  },
  {
   "cell_type": "markdown",
   "metadata": {
    "id": "pSLJHQLjBCG7"
   },
   "source": [
    "# **3. Negative Log Likelihood plot**"
   ]
  },
  {
   "cell_type": "code",
   "execution_count": 15,
   "metadata": {
    "id": "gmcrUN01gD9o"
   },
   "outputs": [],
   "source": [
    " def plot_cost_vs_iter(train_costs,test_costs, title=\"Evolution of Negative log likelihood over iterations\"):\n",
    "\n",
    "  fig, ax = plt.subplots(figsize=(8, 6))\n",
    "  iters = np.arange(1,len(train_costs)+1)\n",
    "  ax.plot(iters, train_costs, color='teal',linewidth=2, label='Loss_Train')\n",
    "  ax.plot(iters, test_costs, color='purple',linewidth=2, label='Loss_Test')\n",
    "  ax.set_xlabel(\"Iteration\"); ax.set_xlim(1, iters[-1])\n",
    "  ax.set_ylabel(\"Negative log likelihood\")\n",
    "  ax.legend()\n",
    "  plt.grid(linestyle='--', alpha=0.7)\n",
    "  #plt.savefig('/content/drive/MyDrive/MACHINE_LEARNING/AML_AT_SCALE/Rapport/Results/FINAL_NLL.pdf', format='pdf')\n",
    "  ax.set_title(title)\n",
    "  plt.show()"
   ]
  },
  {
   "cell_type": "code",
   "execution_count": 16,
   "metadata": {
    "id": "gDPlrVltIfJI"
   },
   "outputs": [
    {
     "data": {
      "image/png": "[encoded data removed]",
      "text/plain": [
       "<Figure size 800x600 with 1 Axes>"
      ]
     },
     "metadata": {},
     "output_type": "display_data"
    }
   ],
   "source": [
    "plot_cost_vs_iter(losses_train,losses_test)"
   ]
  },
  {
   "cell_type": "markdown",
   "metadata": {
    "id": "LxOHnJWxBRld"
   },
   "source": [
    "# **4. RMSE plot**"
   ]
  },
  {
   "cell_type": "code",
   "execution_count": 17,
   "metadata": {
    "id": "bKL9hhKGgD9p"
   },
   "outputs": [],
   "source": [
    "def plot_rmse_vs_iter(train_rmse,test_rmse, title=\"Evolution of RMSE over iterations\"):\n",
    "\n",
    "  fig, ax = plt.subplots(figsize=(8, 6))\n",
    "  iters = np.arange(1,len(train_rmse)+1)\n",
    "  ax.plot(iters, train_rmse, color='teal',linewidth=2, label='RMSE_Train')\n",
    "  ax.plot(iters, test_rmse, color='purple',linewidth=2, label='RMSE_Test')\n",
    "  ax.set_xlabel(\"Iteration\"); ax.set_xlim(1, iters[-1])\n",
    "  ax.set_ylabel(\"RMSE\")\n",
    "  ax.legend()\n",
    "  plt.grid(linestyle='--', alpha=0.7)\n",
    "  #plt.savefig('/content/drive/MyDrive/MACHINE_LEARNING/AML_AT_SCALE/Rapport/Results/FINAL_RMSE.pdf', format='pdf')\n",
    "  ax.set_title(title)\n",
    "  plt.show()"
   ]
  },
  {
   "cell_type": "code",
   "execution_count": 18,
   "metadata": {
    "id": "-bcC7HR2gD9p"
   },
   "outputs": [
    {
     "data": {
      "image/png": "[encoded data removed]",
      "text/plain": [
       "<Figure size 800x600 with 1 Axes>"
      ]
     },
     "metadata": {},
     "output_type": "display_data"
    }
   ],
   "source": [
    "plot_rmse_vs_iter(rmses_train,rmses_test)"
   ]
  },
  {
   "cell_type": "code",
   "execution_count": 19,
   "metadata": {
    "id": "yVVdTDgYsrl6"
   },
   "outputs": [
    {
     "name": "stdout",
     "output_type": "stream",
     "text": [
      " Overall, the Negative Log likelihood converges to -71500.61 on the training and -65965.37 on the test datasets.\n",
      " OveralL, the RMSE converges to 0.75 on the training and 0.79 on the test datasets.\n"
     ]
    }
   ],
   "source": [
    "#Convergence\n",
    "print(f\" Overall, the Negative Log likelihood converges to {losses_train[-1]:.2f} on the training and {losses_test[-1]:.2f} on the test datasets.\" )\n",
    "print(f\" OveralL, the RMSE converges to {rmses_train[-1]:.2f} on the training and {rmses_test[-1]:.2f} on the test datasets.\" )"
   ]
  },
  {
   "cell_type": "markdown",
   "metadata": {},
   "source": [
    "# **5. Dummy user**"
   ]
  },
  {
   "cell_type": "markdown",
   "metadata": {},
   "source": [
    "# 5.1. Data hormonizing"
   ]
  },
  {
   "cell_type": "code",
   "execution_count": 20,
   "metadata": {},
   "outputs": [
    {
     "data": {
      "text/html": [
       "<div>\n",
       "<style scoped>\n",
       "    .dataframe tbody tr th:only-of-type {\n",
       "        vertical-align: middle;\n",
       "    }\n",
       "\n",
       "    .dataframe tbody tr th {\n",
       "        vertical-align: top;\n",
       "    }\n",
       "\n",
       "    .dataframe thead th {\n",
       "        text-align: right;\n",
       "    }\n",
       "</style>\n",
       "<table border=\"1\" class=\"dataframe\">\n",
       "  <thead>\n",
       "    <tr style=\"text-align: right;\">\n",
       "      <th></th>\n",
       "      <th>movieId</th>\n",
       "      <th>title</th>\n",
       "      <th>genres</th>\n",
       "    </tr>\n",
       "  </thead>\n",
       "  <tbody>\n",
       "    <tr>\n",
       "      <th>0</th>\n",
       "      <td>1</td>\n",
       "      <td>Toy Story (1995)</td>\n",
       "      <td>Adventure|Animation|Children|Comedy|Fantasy</td>\n",
       "    </tr>\n",
       "    <tr>\n",
       "      <th>1</th>\n",
       "      <td>2</td>\n",
       "      <td>Jumanji (1995)</td>\n",
       "      <td>Adventure|Children|Fantasy</td>\n",
       "    </tr>\n",
       "    <tr>\n",
       "      <th>2</th>\n",
       "      <td>3</td>\n",
       "      <td>Grumpier Old Men (1995)</td>\n",
       "      <td>Comedy|Romance</td>\n",
       "    </tr>\n",
       "    <tr>\n",
       "      <th>3</th>\n",
       "      <td>4</td>\n",
       "      <td>Waiting to Exhale (1995)</td>\n",
       "      <td>Comedy|Drama|Romance</td>\n",
       "    </tr>\n",
       "    <tr>\n",
       "      <th>4</th>\n",
       "      <td>5</td>\n",
       "      <td>Father of the Bride Part II (1995)</td>\n",
       "      <td>Comedy</td>\n",
       "    </tr>\n",
       "  </tbody>\n",
       "</table>\n",
       "</div>"
      ],
      "text/plain": [
       "   movieId                               title  \\\n",
       "0        1                    Toy Story (1995)   \n",
       "1        2                      Jumanji (1995)   \n",
       "2        3             Grumpier Old Men (1995)   \n",
       "3        4            Waiting to Exhale (1995)   \n",
       "4        5  Father of the Bride Part II (1995)   \n",
       "\n",
       "                                        genres  \n",
       "0  Adventure|Animation|Children|Comedy|Fantasy  \n",
       "1                   Adventure|Children|Fantasy  \n",
       "2                               Comedy|Romance  \n",
       "3                         Comedy|Drama|Romance  \n",
       "4                                       Comedy  "
      ]
     },
     "execution_count": 20,
     "metadata": {},
     "output_type": "execute_result"
    }
   ],
   "source": [
    "# Movies data\n",
    "df_movies = pd.read_csv('/home/emmanuelnk/Desktop/ML_AT_SCALE/ml-25m-20240511T131321Z-001/ml-25m/movies.csv')#,index_col='movieId'\n",
    "# Movies head\n",
    "df_movies.head()"
   ]
  },
  {
   "cell_type": "code",
   "execution_count": 21,
   "metadata": {},
   "outputs": [
    {
     "data": {
      "text/plain": [
       "movieId              5099\n",
       "title        Heidi (1937)\n",
       "genres     Children|Drama\n",
       "Name: 4993, dtype: object"
      ]
     },
     "execution_count": 21,
     "metadata": {},
     "output_type": "execute_result"
    }
   ],
   "source": [
    "df_movies.iloc[4993]"
   ]
  },
  {
   "cell_type": "code",
   "execution_count": 22,
   "metadata": {},
   "outputs": [],
   "source": [
    "def find_related_movies(search_string, df_movies):\n",
    "    # Filter movies dataframe based on search string in titles\n",
    "    related_movies = df_movies[df_movies['title'].str.contains(search_string, case=False)]\n",
    "    \n",
    "    # Select only movieId, title, and genres columns\n",
    "    related_movies = related_movies[['movieId', 'title', 'genres']]\n",
    "    \n",
    "    return related_movies"
   ]
  },
  {
   "cell_type": "code",
   "execution_count": 23,
   "metadata": {},
   "outputs": [
    {
     "data": {
      "text/html": [
       "<div>\n",
       "<style scoped>\n",
       "    .dataframe tbody tr th:only-of-type {\n",
       "        vertical-align: middle;\n",
       "    }\n",
       "\n",
       "    .dataframe tbody tr th {\n",
       "        vertical-align: top;\n",
       "    }\n",
       "\n",
       "    .dataframe thead th {\n",
       "        text-align: right;\n",
       "    }\n",
       "</style>\n",
       "<table border=\"1\" class=\"dataframe\">\n",
       "  <thead>\n",
       "    <tr style=\"text-align: right;\">\n",
       "      <th></th>\n",
       "      <th>movieId</th>\n",
       "      <th>title</th>\n",
       "      <th>genres</th>\n",
       "    </tr>\n",
       "  </thead>\n",
       "  <tbody>\n",
       "    <tr>\n",
       "      <th>2026</th>\n",
       "      <td>2116</td>\n",
       "      <td>Lord of the Rings, The (1978)</td>\n",
       "      <td>Adventure|Animation|Children|Fantasy</td>\n",
       "    </tr>\n",
       "    <tr>\n",
       "      <th>4887</th>\n",
       "      <td>4993</td>\n",
       "      <td>Lord of the Rings: The Fellowship of the Ring,...</td>\n",
       "      <td>Adventure|Fantasy</td>\n",
       "    </tr>\n",
       "    <tr>\n",
       "      <th>5840</th>\n",
       "      <td>5952</td>\n",
       "      <td>Lord of the Rings: The Two Towers, The (2002)</td>\n",
       "      <td>Adventure|Fantasy</td>\n",
       "    </tr>\n",
       "    <tr>\n",
       "      <th>7028</th>\n",
       "      <td>7153</td>\n",
       "      <td>Lord of the Rings: The Return of the King, The...</td>\n",
       "      <td>Action|Adventure|Drama|Fantasy</td>\n",
       "    </tr>\n",
       "  </tbody>\n",
       "</table>\n",
       "</div>"
      ],
      "text/plain": [
       "      movieId                                              title  \\\n",
       "2026     2116                      Lord of the Rings, The (1978)   \n",
       "4887     4993  Lord of the Rings: The Fellowship of the Ring,...   \n",
       "5840     5952      Lord of the Rings: The Two Towers, The (2002)   \n",
       "7028     7153  Lord of the Rings: The Return of the King, The...   \n",
       "\n",
       "                                    genres  \n",
       "2026  Adventure|Animation|Children|Fantasy  \n",
       "4887                     Adventure|Fantasy  \n",
       "5840                     Adventure|Fantasy  \n",
       "7028        Action|Adventure|Drama|Fantasy  "
      ]
     },
     "execution_count": 23,
     "metadata": {},
     "output_type": "execute_result"
    }
   ],
   "source": [
    "search_string = \"lord of the ring\"\n",
    "related_movies_df = find_related_movies(search_string, df_movies)\n",
    "related_movies_df"
   ]
  },
  {
   "cell_type": "code",
   "execution_count": 24,
   "metadata": {},
   "outputs": [],
   "source": [
    "new_user = [(movie_to_index[4993],5)]"
   ]
  },
  {
   "cell_type": "code",
   "execution_count": 25,
   "metadata": {},
   "outputs": [],
   "source": [
    "def embed_user(data_by_user, item_biases, V, lambda_, gamma, tau, K,n_epoch=20):\n",
    "    # Convert data to CSR format for fast row slicing\n",
    "    n_user = np.random.normal(0,1/np.sqrt(K),size=(1,K))\n",
    "\n",
    "    user_b = 0\n",
    "    for i in tqdm(range(n_epoch)):\n",
    "        # Update user biases\n",
    "\n",
    "        item_indices = np.array([n for n, _ in data_by_user])\n",
    "        ratings = np.array([r for _, r in data_by_user])\n",
    "        predictions = n_user.dot(V[item_indices].T) + item_biases[item_indices]\n",
    "        user_b = np.sum(lambda_ * (ratings - predictions)) / (lambda_ * len(data_by_user) + gamma)\n",
    "\n",
    "        # Update user latent factors\n",
    "\n",
    "        item_indices = np.array([n for n, _ in data_by_user])\n",
    "        ratings = np.array([r for _, r in data_by_user])\n",
    "        A = V[item_indices].T.dot(V[item_indices]) + tau * np.eye(K)\n",
    "        b = (ratings - user_b - item_biases[item_indices]).dot(V[item_indices])\n",
    "        n_user = np.linalg.solve(lambda_ * A, lambda_ * b)\n",
    "    \n",
    "    return n_user"
   ]
  },
  {
   "cell_type": "code",
   "execution_count": 26,
   "metadata": {},
   "outputs": [
    {
     "name": "stderr",
     "output_type": "stream",
     "text": [
      "100%|████████████████████████████████████████| 20/20 [00:00<00:00, 11663.80it/s]\n"
     ]
    }
   ],
   "source": [
    "user_embedding = embed_user(new_user,item_biases,V,lambda_,gamma,tau,K)"
   ]
  },
  {
   "cell_type": "code",
   "execution_count": 33,
   "metadata": {},
   "outputs": [],
   "source": [
    "score = user_embedding @ V.T + 0.05 * item_biases"
   ]
  },
  {
   "cell_type": "code",
   "execution_count": 34,
   "metadata": {},
   "outputs": [],
   "source": [
    "ranks = np.argsort(score)[::-1][:20]"
   ]
  },
  {
   "cell_type": "code",
   "execution_count": 35,
   "metadata": {},
   "outputs": [],
   "source": [
    "index_to_movieId = {idx:mId for mId,idx in movie_to_index.items()}"
   ]
  },
  {
   "cell_type": "code",
   "execution_count": 36,
   "metadata": {},
   "outputs": [
    {
     "name": "stdout",
     "output_type": "stream",
     "text": [
      "Live! (2007) Comedy|Drama\n",
      "Who You Think I Am (2019) Drama\n",
      "You Are Not Alone (2016) Horror|Thriller\n",
      "Cat City (1986) Animation|Children\n",
      "Lewis Black: In God We Rust (2012) Comedy\n",
      "Countdown (2004) Action|Adventure|Crime\n",
      "Malice in Wonderland (2009) Drama|Fantasy|Romance\n",
      "Naruto Shippuden the Movie: Road to Ninja (2012) Action|Adventure|Animation|Fantasy\n",
      "Tormented (2009) Comedy|Horror\n",
      "Don't Hug Me I'm Scared 6 (2016) Animation|Horror\n",
      "Lord of the Rings: The Return of the King, The (2003) Action|Adventure|Drama|Fantasy\n",
      "Cream (2017) Animation|Comedy|Horror|Sci-Fi\n",
      "Lord of the Rings: The Fellowship of the Ring, The (2001) Adventure|Fantasy\n",
      "The Zen Diaries of Garry Shandling: Parts 1 & 2 Comedy|Documentary\n",
      "Lord of the Rings: The Two Towers, The (2002) Adventure|Fantasy\n",
      "Avengers: Infinity War - Part I (2018) Action|Adventure|Sci-Fi\n",
      "Yolki 2 (2011) Comedy\n",
      "Avengers: Infinity War - Part II (2019) Action|Adventure|Sci-Fi\n",
      "Üvegtigris (2001) Comedy\n",
      "Architecture 101 (2012) Comedy|Romance\n"
     ]
    }
   ],
   "source": [
    "for rank in ranks:\n",
    "    movie = index_to_movieId[rank]\n",
    "    title = df_movies[df_movies['movieId'] == movie][['title','genres']].values[0]\n",
    "    print(title[0],title[1])"
   ]
  },
  {
   "cell_type": "code",
   "execution_count": 39,
   "metadata": {},
   "outputs": [
    {
     "name": "stdout",
     "output_type": "stream",
     "text": [
      "The most polarizing movies are:\n",
      "Three Colors: Blue (Trois couleurs: Bleu) (1993) (Drama)\n",
      "Pulp Fiction (1994) (Comedy|Crime|Drama|Thriller)\n",
      "Underground (1995) (Comedy|Drama|War)\n",
      "Singin' in the Rain (1952) (Comedy|Musical|Romance)\n",
      "Three Colors: Red (Trois couleurs: Rouge) (1994) (Drama)\n"
     ]
    }
   ],
   "source": [
    "#Polarizing\n",
    "polarity = np.linalg.norm(V, axis=0)\n",
    "\n",
    "# Get indices of the 20 most polarized movies\n",
    "most_polarizing_indices = np.argsort(polarity)[-20:][::-1]\n",
    "\n",
    "# Print the top 20 most polarizing movies\n",
    "print(\"The most polarizing movies are:\")\n",
    "for i in most_polarizing_indices:\n",
    "    movie = index_to_movieId[i]\n",
    "    title = df_movies[df_movies['movieId'] == movie][['title', 'genres']].values[0]\n",
    "    print(f\"{title[0]} ({title[1]})\")"
   ]
  },
  {
   "cell_type": "code",
   "execution_count": 38,
   "metadata": {},
   "outputs": [
    {
     "name": "stdout",
     "output_type": "stream",
     "text": [
      "\n",
      "The 20 least polarizing movies are:\n",
      "Three Colors: Red (Trois couleurs: Rouge) (1994) (Drama)\n",
      "Singin' in the Rain (1952) (Comedy|Musical|Romance)\n",
      "Underground (1995) (Comedy|Drama|War)\n",
      "Pulp Fiction (1994) (Comedy|Crime|Drama|Thriller)\n",
      "Three Colors: Blue (Trois couleurs: Bleu) (1993) (Drama)\n"
     ]
    }
   ],
   "source": [
    "# Print the 20 least polarizing movies\n",
    "least_polarizing_indices = np.argsort(polarity)[:20]\n",
    "\n",
    "print(\"\\nThe least polarizing movies are:\")\n",
    "for i in least_polarizing_indices:\n",
    "    movie = index_to_movieId[i]\n",
    "    title = df_movies[df_movies['movieId'] == movie][['title', 'genres']].values[0]\n",
    "    print(f\"{title[0]} ({title[1]})\")"
   ]
  },
  {
   "cell_type": "code",
   "execution_count": null,
   "metadata": {},
   "outputs": [],
   "source": []
  }
 ],
 "metadata": {
  "colab": {
   "provenance": []
  },
  "kernelspec": {
   "display_name": "Python 3 (ipykernel)",
   "language": "python",
   "name": "python3"
  },
  "language_info": {
   "codemirror_mode": {
    "name": "ipython",
    "version": 3
   },
   "file_extension": ".py",
   "mimetype": "text/x-python",
   "name": "python",
   "nbconvert_exporter": "python",
   "pygments_lexer": "ipython3",
   "version": "3.11.2"
  }
 },
 "nbformat": 4,
 "nbformat_minor": 1
}
