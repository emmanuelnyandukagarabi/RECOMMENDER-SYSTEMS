{
 "cells": [
  {
   "cell_type": "markdown",
   "metadata": {
    "id": "GmZBECS03CDV"
   },
   "source": [
    "# **Emmanuel NYANDU KAGARABI**\n",
    "\n",
    "# **Applied Machine Learning at scale : Practical 2 (Bias only)**"
   ]
  },
  {
   "cell_type": "markdown",
   "metadata": {
    "id": "lZooaA9YPSKa"
   },
   "source": [
    "✅ Add user and item biases\n",
    "\n",
    "✅ Add a sensible regularizer to your loss function\n",
    "\n",
    "✅ Build a model that finds maximum likelihood estimate for user + item biases + latent trait vectors / factors with alternating least squares\n",
    "\n",
    "✅ Plot the loss function (negative log likelihood) over training iterations. It should go down monotonically!\n",
    "\n",
    "✅ Plot the root mean squared error over training iterations. What does it converge to?\n"
   ]
  },
  {
   "cell_type": "markdown",
   "metadata": {
    "id": "rus44TO5SBdn"
   },
   "source": [
    "# 0. Useful libraries"
   ]
  },
  {
   "cell_type": "code",
   "execution_count": 1,
   "metadata": {
    "id": "55jcdkAHxlNL"
   },
   "outputs": [],
   "source": [
    "import numpy as np\n",
    "import pandas as pd\n",
    "import random\n",
    "import math\n",
    "import matplotlib.pyplot as plt"
   ]
  },
  {
   "cell_type": "markdown",
   "metadata": {
    "id": "6PLYT8wASMp3"
   },
   "source": [
    "# 1.  Download the MovieLens 25M "
   ]
  },
  {
   "cell_type": "code",
   "execution_count": 2,
   "metadata": {
    "colab": {
     "base_uri": "https://localhost:8080/",
     "height": 206
    },
    "id": "5zMD6UTOx8zs",
    "outputId": "70534d6f-03c7-4502-deb0-923d63d2b5f4"
   },
   "outputs": [
    {
     "data": {
      "text/html": [
       "<div>\n",
       "<style scoped>\n",
       "    .dataframe tbody tr th:only-of-type {\n",
       "        vertical-align: middle;\n",
       "    }\n",
       "\n",
       "    .dataframe tbody tr th {\n",
       "        vertical-align: top;\n",
       "    }\n",
       "\n",
       "    .dataframe thead th {\n",
       "        text-align: right;\n",
       "    }\n",
       "</style>\n",
       "<table border=\"1\" class=\"dataframe\">\n",
       "  <thead>\n",
       "    <tr style=\"text-align: right;\">\n",
       "      <th></th>\n",
       "      <th>userId</th>\n",
       "      <th>movieId</th>\n",
       "      <th>rating</th>\n",
       "      <th>timestamp</th>\n",
       "    </tr>\n",
       "  </thead>\n",
       "  <tbody>\n",
       "    <tr>\n",
       "      <th>0</th>\n",
       "      <td>1</td>\n",
       "      <td>296</td>\n",
       "      <td>5.0</td>\n",
       "      <td>1147880044</td>\n",
       "    </tr>\n",
       "    <tr>\n",
       "      <th>1</th>\n",
       "      <td>1</td>\n",
       "      <td>306</td>\n",
       "      <td>3.5</td>\n",
       "      <td>1147868817</td>\n",
       "    </tr>\n",
       "    <tr>\n",
       "      <th>2</th>\n",
       "      <td>1</td>\n",
       "      <td>307</td>\n",
       "      <td>5.0</td>\n",
       "      <td>1147868828</td>\n",
       "    </tr>\n",
       "    <tr>\n",
       "      <th>3</th>\n",
       "      <td>1</td>\n",
       "      <td>665</td>\n",
       "      <td>5.0</td>\n",
       "      <td>1147878820</td>\n",
       "    </tr>\n",
       "    <tr>\n",
       "      <th>4</th>\n",
       "      <td>1</td>\n",
       "      <td>899</td>\n",
       "      <td>3.5</td>\n",
       "      <td>1147868510</td>\n",
       "    </tr>\n",
       "  </tbody>\n",
       "</table>\n",
       "</div>"
      ],
      "text/plain": [
       "   userId  movieId  rating   timestamp\n",
       "0       1      296     5.0  1147880044\n",
       "1       1      306     3.5  1147868817\n",
       "2       1      307     5.0  1147868828\n",
       "3       1      665     5.0  1147878820\n",
       "4       1      899     3.5  1147868510"
      ]
     },
     "execution_count": 2,
     "metadata": {},
     "output_type": "execute_result"
    }
   ],
   "source": [
    "df = pd.read_csv('/home/emmanuelnk/Desktop/ML_AT_SCALE/ml-25m-20240511T131321Z-001/ml-25m/ratings.csv')\n",
    "df.head()"
   ]
  },
  {
   "cell_type": "code",
   "execution_count": 3,
   "metadata": {
    "colab": {
     "base_uri": "https://localhost:8080/"
    },
    "id": "LAFFf-koM6KZ",
    "outputId": "c916c9e3-1c57-4ae5-ecb3-fc75ac3a097f"
   },
   "outputs": [
    {
     "name": "stdout",
     "output_type": "stream",
     "text": [
      "<class 'pandas.core.frame.DataFrame'>\n",
      "RangeIndex: 25000095 entries, 0 to 25000094\n",
      "Data columns (total 4 columns):\n",
      " #   Column     Dtype  \n",
      "---  ------     -----  \n",
      " 0   userId     int64  \n",
      " 1   movieId    int64  \n",
      " 2   rating     float64\n",
      " 3   timestamp  int64  \n",
      "dtypes: float64(1), int64(3)\n",
      "memory usage: 762.9 MB\n"
     ]
    }
   ],
   "source": [
    "df.info()"
   ]
  },
  {
   "cell_type": "code",
   "execution_count": 4,
   "metadata": {
    "colab": {
     "base_uri": "https://localhost:8080/",
     "height": 175
    },
    "id": "lrs-C29qNCjQ",
    "outputId": "384565ef-6bd9-45ad-cbb8-b23b566a671a"
   },
   "outputs": [
    {
     "data": {
      "text/html": [
       "<div>\n",
       "<style scoped>\n",
       "    .dataframe tbody tr th:only-of-type {\n",
       "        vertical-align: middle;\n",
       "    }\n",
       "\n",
       "    .dataframe tbody tr th {\n",
       "        vertical-align: top;\n",
       "    }\n",
       "\n",
       "    .dataframe thead th {\n",
       "        text-align: right;\n",
       "    }\n",
       "</style>\n",
       "<table border=\"1\" class=\"dataframe\">\n",
       "  <thead>\n",
       "    <tr style=\"text-align: right;\">\n",
       "      <th></th>\n",
       "      <th>count</th>\n",
       "      <th>mean</th>\n",
       "      <th>std</th>\n",
       "      <th>min</th>\n",
       "      <th>25%</th>\n",
       "      <th>50%</th>\n",
       "      <th>75%</th>\n",
       "      <th>max</th>\n",
       "    </tr>\n",
       "  </thead>\n",
       "  <tbody>\n",
       "    <tr>\n",
       "      <th>userId</th>\n",
       "      <td>25000095.0</td>\n",
       "      <td>8.118928e+04</td>\n",
       "      <td>4.679172e+04</td>\n",
       "      <td>1.0</td>\n",
       "      <td>4.051000e+04</td>\n",
       "      <td>8.091400e+04</td>\n",
       "      <td>1.215570e+05</td>\n",
       "      <td>1.625410e+05</td>\n",
       "    </tr>\n",
       "    <tr>\n",
       "      <th>movieId</th>\n",
       "      <td>25000095.0</td>\n",
       "      <td>2.138798e+04</td>\n",
       "      <td>3.919886e+04</td>\n",
       "      <td>1.0</td>\n",
       "      <td>1.196000e+03</td>\n",
       "      <td>2.947000e+03</td>\n",
       "      <td>8.623000e+03</td>\n",
       "      <td>2.091710e+05</td>\n",
       "    </tr>\n",
       "    <tr>\n",
       "      <th>rating</th>\n",
       "      <td>25000095.0</td>\n",
       "      <td>3.533854e+00</td>\n",
       "      <td>1.060744e+00</td>\n",
       "      <td>0.5</td>\n",
       "      <td>3.000000e+00</td>\n",
       "      <td>3.500000e+00</td>\n",
       "      <td>4.000000e+00</td>\n",
       "      <td>5.000000e+00</td>\n",
       "    </tr>\n",
       "    <tr>\n",
       "      <th>timestamp</th>\n",
       "      <td>25000095.0</td>\n",
       "      <td>1.215601e+09</td>\n",
       "      <td>2.268758e+08</td>\n",
       "      <td>789652009.0</td>\n",
       "      <td>1.011747e+09</td>\n",
       "      <td>1.198868e+09</td>\n",
       "      <td>1.447205e+09</td>\n",
       "      <td>1.574328e+09</td>\n",
       "    </tr>\n",
       "  </tbody>\n",
       "</table>\n",
       "</div>"
      ],
      "text/plain": [
       "                count          mean           std          min           25%  \\\n",
       "userId     25000095.0  8.118928e+04  4.679172e+04          1.0  4.051000e+04   \n",
       "movieId    25000095.0  2.138798e+04  3.919886e+04          1.0  1.196000e+03   \n",
       "rating     25000095.0  3.533854e+00  1.060744e+00          0.5  3.000000e+00   \n",
       "timestamp  25000095.0  1.215601e+09  2.268758e+08  789652009.0  1.011747e+09   \n",
       "\n",
       "                    50%           75%           max  \n",
       "userId     8.091400e+04  1.215570e+05  1.625410e+05  \n",
       "movieId    2.947000e+03  8.623000e+03  2.091710e+05  \n",
       "rating     3.500000e+00  4.000000e+00  5.000000e+00  \n",
       "timestamp  1.198868e+09  1.447205e+09  1.574328e+09  "
      ]
     },
     "execution_count": 4,
     "metadata": {},
     "output_type": "execute_result"
    }
   ],
   "source": [
    "df.describe().transpose()"
   ]
  },
  {
   "cell_type": "code",
   "execution_count": 5,
   "metadata": {
    "colab": {
     "base_uri": "https://localhost:8080/",
     "height": 206
    },
    "id": "HGj0CeAnEYWw",
    "outputId": "ce1fbd42-00a3-4f1c-df56-ac915d57e370"
   },
   "outputs": [
    {
     "data": {
      "text/html": [
       "<div>\n",
       "<style scoped>\n",
       "    .dataframe tbody tr th:only-of-type {\n",
       "        vertical-align: middle;\n",
       "    }\n",
       "\n",
       "    .dataframe tbody tr th {\n",
       "        vertical-align: top;\n",
       "    }\n",
       "\n",
       "    .dataframe thead th {\n",
       "        text-align: right;\n",
       "    }\n",
       "</style>\n",
       "<table border=\"1\" class=\"dataframe\">\n",
       "  <thead>\n",
       "    <tr style=\"text-align: right;\">\n",
       "      <th></th>\n",
       "      <th>userId</th>\n",
       "      <th>movieId</th>\n",
       "      <th>rating</th>\n",
       "    </tr>\n",
       "  </thead>\n",
       "  <tbody>\n",
       "    <tr>\n",
       "      <th>0</th>\n",
       "      <td>1</td>\n",
       "      <td>296</td>\n",
       "      <td>5.0</td>\n",
       "    </tr>\n",
       "    <tr>\n",
       "      <th>1</th>\n",
       "      <td>1</td>\n",
       "      <td>306</td>\n",
       "      <td>3.5</td>\n",
       "    </tr>\n",
       "    <tr>\n",
       "      <th>2</th>\n",
       "      <td>1</td>\n",
       "      <td>307</td>\n",
       "      <td>5.0</td>\n",
       "    </tr>\n",
       "    <tr>\n",
       "      <th>3</th>\n",
       "      <td>1</td>\n",
       "      <td>665</td>\n",
       "      <td>5.0</td>\n",
       "    </tr>\n",
       "    <tr>\n",
       "      <th>4</th>\n",
       "      <td>1</td>\n",
       "      <td>899</td>\n",
       "      <td>3.5</td>\n",
       "    </tr>\n",
       "  </tbody>\n",
       "</table>\n",
       "</div>"
      ],
      "text/plain": [
       "   userId  movieId  rating\n",
       "0       1      296     5.0\n",
       "1       1      306     3.5\n",
       "2       1      307     5.0\n",
       "3       1      665     5.0\n",
       "4       1      899     3.5"
      ]
     },
     "execution_count": 5,
     "metadata": {},
     "output_type": "execute_result"
    }
   ],
   "source": [
    "user_id = df['userId'].to_numpy(dtype=int)\n",
    "movie_id = df['movieId'].to_numpy(dtype=int)\n",
    "ratings = df['rating'].to_numpy(dtype=float)\n",
    "df = pd.DataFrame({'userId': user_id, 'movieId': movie_id, 'rating': ratings})\n",
    "df.head()"
   ]
  },
  {
   "cell_type": "markdown",
   "metadata": {
    "id": "ue0-NhM_jJ54"
   },
   "source": [
    "# 2. Write a data structure that indexes the data (a) by user and (b) by movie"
   ]
  },
  {
   "cell_type": "code",
   "execution_count": 6,
   "metadata": {},
   "outputs": [],
   "source": [
    "# 1. Data structures\n",
    "user_to_index ={} # ex {\"u1\":0,...,\"u100\": 99}\n",
    "movie_to_index = {} # ex {\"m1\":0,...,\"m50\": 49}\n",
    "list_to_user = [] # ex [\"u1\",...,\"u100\"]\n",
    "list_to_movie = [] # ex [\"m1\",...,\"m50\"]\n",
    "data_by_movie =  []# ex[[(u1,r10),...,(u100,r1100)],[...],[]]\n",
    "data_by_user =  []# ex[[(m1,r10),...,(m50,r1100)],[...],[]]\n",
    "\n",
    "# 2. Let's fill the data structure given above\n",
    "for user,movie,rating in zip(user_id,movie_id,ratings):\n",
    "    # Users\n",
    "    if user not in user_to_index:\n",
    "        index = len(list_to_user)\n",
    "        user_to_index[user] = index\n",
    "        list_to_user.append(user)\n",
    "        data_by_user.append([])\n",
    "    else:\n",
    "        index = user_to_index[user]\n",
    "\n",
    "    # Movies\n",
    "    if movie not in movie_to_index:\n",
    "        index_movie = len(list_to_movie)\n",
    "        movie_to_index[movie] = index_movie\n",
    "        list_to_movie.append(movie)\n",
    "        data_by_movie.append([])\n",
    "    else:\n",
    "        index_movie = movie_to_index[movie]\n",
    "\n",
    "    # Data\n",
    "    data_by_movie[index_movie].append((index, rating)) \n",
    "    data_by_user[index].append((index_movie, rating)) "
   ]
  },
  {
   "cell_type": "markdown",
   "metadata": {},
   "source": [
    "# 3. ALS with bias only"
   ]
  },
  {
   "cell_type": "code",
   "execution_count": 20,
   "metadata": {},
   "outputs": [
    {
     "name": "stdout",
     "output_type": "stream",
     "text": [
      "Number of users = 162541\n",
      "Number of movies = 59047\n"
     ]
    }
   ],
   "source": [
    "#Shapes\n",
    "M = len(data_by_user) # Number of users\n",
    "N = len(data_by_movie) # Number of movies \n",
    "\n",
    "print(f\"Number of users = {M}\")\n",
    "print(f\"Number of movies = {N}\")"
   ]
  },
  {
   "cell_type": "code",
   "execution_count": 21,
   "metadata": {},
   "outputs": [],
   "source": [
    "# Parameters\n",
    "lambda_ = 0.1  # \n",
    "gamma = 0.01   # \n",
    "max_iterations = 50\n",
    "\n",
    "# Initialize biases\n",
    "user_biases = np.zeros((M))\n",
    "item_biases = np.zeros((N))"
   ]
  },
  {
   "cell_type": "code",
   "execution_count": 9,
   "metadata": {},
   "outputs": [],
   "source": [
    "# Helpers\n",
    "# Function to get items and ratings for a given user\n",
    "def get_items_and_ratings_for_user(user_index):\n",
    "    return data_by_user[user_index] # ex output [(m1,r1),(m2,r2)]\n",
    "\n",
    "# Function to get users and ratings for a given item\n",
    "def get_users_and_ratings_for_item(item_index):\n",
    "    return data_by_movie[item_index] #ex output [(u1,r1),(u2,r2)]\n",
    "\n",
    "def compute_loss(data_by_user, user_bias, movie_bias, lambda_, gamma):\n",
    "    cost = 0\n",
    "    for user in range(len(data_by_user)):\n",
    "        for (movie, rating) in data_by_user[user]:\n",
    "            predicted_rating = user_bias[user] + movie_bias[movie]\n",
    "            cost += (rating - predicted_rating) ** 2\n",
    "\n",
    "    cost *= -0.5 * lambda_\n",
    "    # user bias\n",
    "    cost -= 0.5 * gamma * np.sum(user_bias**2 )\n",
    "    # item_bias\n",
    "    cost -= 0.5 * gamma  * np.sum(movie_bias**2)\n",
    "     #log likelihood       \n",
    "    return cost\n",
    "\n",
    "def rmse(data_by_user, user_biases, item_biases):\n",
    "    squared_error = 0\n",
    "    num_ratings = 0\n",
    "    for m in range(len(data_by_user)):\n",
    "        for (n, r) in data_by_user[m]:\n",
    "            prediction = user_biases[m] + item_biases[n]\n",
    "            squared_error += (r - prediction) ** 2\n",
    "            num_ratings += 1\n",
    "    rmse = np.sqrt(squared_error / num_ratings)\n",
    "    return rmse"
   ]
  },
  {
   "cell_type": "code",
   "execution_count": 10,
   "metadata": {},
   "outputs": [
    {
     "name": "stdout",
     "output_type": "stream",
     "text": [
      "Iteration 1:\t Loss = -949129.408\t  RMSE = 0.866\n",
      "Iteration 2:\t Loss = -916426.389\t  RMSE = 0.851\n",
      "Iteration 3:\t Loss = -914868.836\t  RMSE = 0.850\n",
      "Iteration 4:\t Loss = -914751.776\t  RMSE = 0.850\n",
      "Iteration 5:\t Loss = -914726.044\t  RMSE = 0.850\n",
      "Iteration 6:\t Loss = -914709.593\t  RMSE = 0.850\n",
      "Iteration 7:\t Loss = -914694.640\t  RMSE = 0.850\n",
      "Iteration 8:\t Loss = -914680.005\t  RMSE = 0.850\n",
      "Iteration 9:\t Loss = -914665.457\t  RMSE = 0.850\n",
      "Iteration 10:\t Loss = -914650.949\t  RMSE = 0.850\n",
      "Iteration 11:\t Loss = -914636.469\t  RMSE = 0.850\n",
      "Iteration 12:\t Loss = -914622.015\t  RMSE = 0.850\n",
      "Iteration 13:\t Loss = -914607.586\t  RMSE = 0.850\n",
      "Iteration 14:\t Loss = -914593.183\t  RMSE = 0.850\n",
      "Iteration 15:\t Loss = -914578.805\t  RMSE = 0.850\n",
      "Iteration 16:\t Loss = -914564.453\t  RMSE = 0.850\n",
      "Iteration 17:\t Loss = -914550.125\t  RMSE = 0.850\n",
      "Iteration 18:\t Loss = -914535.823\t  RMSE = 0.850\n",
      "Iteration 19:\t Loss = -914521.546\t  RMSE = 0.850\n",
      "Iteration 20:\t Loss = -914507.293\t  RMSE = 0.850\n",
      "Iteration 21:\t Loss = -914493.066\t  RMSE = 0.850\n",
      "Iteration 22:\t Loss = -914478.864\t  RMSE = 0.850\n",
      "Iteration 23:\t Loss = -914464.686\t  RMSE = 0.850\n",
      "Iteration 24:\t Loss = -914450.534\t  RMSE = 0.850\n",
      "Iteration 25:\t Loss = -914436.406\t  RMSE = 0.850\n",
      "Iteration 26:\t Loss = -914422.303\t  RMSE = 0.850\n",
      "Iteration 27:\t Loss = -914408.224\t  RMSE = 0.850\n",
      "Iteration 28:\t Loss = -914394.171\t  RMSE = 0.850\n",
      "Iteration 29:\t Loss = -914380.142\t  RMSE = 0.850\n",
      "Iteration 30:\t Loss = -914366.138\t  RMSE = 0.850\n",
      "Iteration 31:\t Loss = -914352.158\t  RMSE = 0.850\n",
      "Iteration 32:\t Loss = -914338.202\t  RMSE = 0.850\n",
      "Iteration 33:\t Loss = -914324.272\t  RMSE = 0.850\n",
      "Iteration 34:\t Loss = -914310.365\t  RMSE = 0.850\n",
      "Iteration 35:\t Loss = -914296.483\t  RMSE = 0.850\n",
      "Iteration 36:\t Loss = -914282.625\t  RMSE = 0.850\n",
      "Iteration 37:\t Loss = -914268.792\t  RMSE = 0.850\n",
      "Iteration 38:\t Loss = -914254.983\t  RMSE = 0.850\n",
      "Iteration 39:\t Loss = -914241.198\t  RMSE = 0.850\n",
      "Iteration 40:\t Loss = -914227.437\t  RMSE = 0.850\n",
      "Iteration 41:\t Loss = -914213.700\t  RMSE = 0.850\n",
      "Iteration 42:\t Loss = -914199.988\t  RMSE = 0.850\n",
      "Iteration 43:\t Loss = -914186.299\t  RMSE = 0.850\n",
      "Iteration 44:\t Loss = -914172.635\t  RMSE = 0.850\n",
      "Iteration 45:\t Loss = -914158.994\t  RMSE = 0.850\n",
      "Iteration 46:\t Loss = -914145.378\t  RMSE = 0.850\n",
      "Iteration 47:\t Loss = -914131.785\t  RMSE = 0.850\n",
      "Iteration 48:\t Loss = -914118.216\t  RMSE = 0.850\n",
      "Iteration 49:\t Loss = -914104.671\t  RMSE = 0.850\n",
      "Iteration 50:\t Loss = -914091.149\t  RMSE = 0.850\n"
     ]
    }
   ],
   "source": [
    "losses = []\n",
    "rmses = []\n",
    "\n",
    "for iteration in range(max_iterations):\n",
    "    \n",
    "    #update use biases\n",
    "    for m in range(M):\n",
    "        bias = 0\n",
    "        item_counter = 0\n",
    "        for (n, r) in get_items_and_ratings_for_user(m):\n",
    "            bias += lambda_ * (r - item_biases[n])\n",
    "            item_counter += 1\n",
    "        bias /= lambda_ * item_counter + gamma\n",
    "        user_biases[m] = bias\n",
    "        \n",
    "    # Update item biases\n",
    "    for n in range(N):\n",
    "        bias = 0\n",
    "        user_counter = 0\n",
    "        for (m, r) in get_users_and_ratings_for_item(n):\n",
    "            bias += lambda_ * (r - user_biases[m])\n",
    "            user_counter += 1\n",
    "        bias /= lambda_ * user_counter + gamma\n",
    "        item_biases[n] = bias\n",
    "        \n",
    "    # Cost and rmse\n",
    "    loss = compute_loss(data_by_user, user_biases, item_biases, lambda_, gamma)\n",
    "    rmse_value = rmse(data_by_user, user_biases, item_biases)\n",
    "\n",
    "    losses.append(loss)\n",
    "    rmses.append(rmse_value)\n",
    "    print(f\"Iteration {iteration + 1}:\\t Loss = {loss:.3f}\\t  RMSE = {rmse_value:.3f}\")"
   ]
  },
  {
   "cell_type": "code",
   "execution_count": 11,
   "metadata": {},
   "outputs": [
    {
     "name": "stdout",
     "output_type": "stream",
     "text": [
      "Negative loglikelihood converges to -914091.149.\n",
      "RMSE converges to 0.850.\n"
     ]
    }
   ],
   "source": [
    "print(f\"Negative loglikelihood converges to {losses[-1]:.3f}.\")\n",
    "print(f\"RMSE converges to {rmses[-1]:.3f}.\")"
   ]
  },
  {
   "cell_type": "markdown",
   "metadata": {},
   "source": [
    "# 4. Negative log likelihood plot"
   ]
  },
  {
   "cell_type": "code",
   "execution_count": 18,
   "metadata": {},
   "outputs": [],
   "source": [
    "def plot_cost_vs_iter(train_costs, title=\"Evolution of Negative log likelihood over iterations\"):\n",
    "\n",
    "  fig, ax = plt.subplots(figsize=(8, 6))\n",
    "  iters = np.arange(1,len(train_costs)+1)\n",
    "  ax.plot(iters, train_costs, color='teal',linewidth=3, label='Negative log likelihood')\n",
    "  ax.set_xlabel(\"Number of iterations\"); ax.set_xlim(1, iters[-1])\n",
    "  ax.set_ylabel(\"Negative log likelihood\")\n",
    "  ax.legend(bbox_to_anchor=(1.04, 0.5), loc=\"center left\", frameon=False)\n",
    "  plt.grid(linestyle='--', alpha=0.7)\n",
    "  plt.savefig('/home/emmanuelnk/Desktop/ML_AT_SCALE/Figures-20240509T064240Z-001/Figures/log_bias.pdf', format='pdf')\n",
    "  ax.set_title(title)\n",
    "  plt.show()"
   ]
  },
  {
   "cell_type": "code",
   "execution_count": 19,
   "metadata": {},
   "outputs": [
    {
     "data": {
      "image/png": "[encoded data removed]",
      "text/plain": [
       "<Figure size 800x600 with 1 Axes>"
      ]
     },
     "metadata": {},
     "output_type": "display_data"
    }
   ],
   "source": [
    "plot_cost_vs_iter(losses)"
   ]
  },
  {
   "cell_type": "markdown",
   "metadata": {},
   "source": [
    "# 5. RMSE plot"
   ]
  },
  {
   "cell_type": "code",
   "execution_count": 16,
   "metadata": {},
   "outputs": [],
   "source": [
    "\n",
    "def plot_rmse_vs_iter(train_rmse, title=\"Evolution of RMSE over iterations\"):\n",
    "\n",
    "  fig, ax = plt.subplots(figsize=(8, 6))\n",
    "  iters = np.arange(1,len(train_rmse)+1)\n",
    "  ax.plot(iters, train_rmse, color='teal',linewidth=3, label='RMSE')\n",
    "  ax.set_xlabel(\"Number of iterations\"); ax.set_xlim(1, iters[-1])\n",
    "  ax.set_ylabel(\"RMSE\")\n",
    "  ax.legend(bbox_to_anchor=(1.04, 0.5), loc=\"center left\", frameon=False)\n",
    "  plt.grid(linestyle='--', alpha=0.7)\n",
    "  plt.savefig('/home/emmanuelnk/Desktop/ML_AT_SCALE/Figures-20240509T064240Z-001/Figures/rmse_bias.pdf', format='pdf')\n",
    "  ax.set_title(title)\n",
    "  plt.show()"
   ]
  },
  {
   "cell_type": "code",
   "execution_count": 17,
   "metadata": {},
   "outputs": [
    {
     "data": {
      "image/png": "[encoded data removed]",
      "text/plain": [
       "<Figure size 800x600 with 1 Axes>"
      ]
     },
     "metadata": {},
     "output_type": "display_data"
    }
   ],
   "source": [
    "plot_rmse_vs_iter(rmses)"
   ]
  },
  {
   "cell_type": "code",
   "execution_count": null,
   "metadata": {},
   "outputs": [],
   "source": []
  }
 ],
 "metadata": {
  "colab": {
   "provenance": []
  },
  "kernelspec": {
   "display_name": "Python 3 (ipykernel)",
   "language": "python",
   "name": "python3"
  },
  "language_info": {
   "codemirror_mode": {
    "name": "ipython",
    "version": 3
   },
   "file_extension": ".py",
   "mimetype": "text/x-python",
   "name": "python",
   "nbconvert_exporter": "python",
   "pygments_lexer": "ipython3",
   "version": "3.11.2"
  }
 },
 "nbformat": 4,
 "nbformat_minor": 1
}
